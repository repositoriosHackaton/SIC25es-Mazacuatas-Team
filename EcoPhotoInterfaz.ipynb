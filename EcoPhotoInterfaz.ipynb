{
 "cells": [
  {
   "cell_type": "code",
   "execution_count": 40,
   "id": "4ee1abf0-9cf1-405b-9905-8d81de928b1b",
   "metadata": {},
   "outputs": [
    {
     "name": "stderr",
     "output_type": "stream",
     "text": [
      "WARNING:absl:Compiled the loaded model, but the compiled metrics have yet to be built. `model.compile_metrics` will be empty until you train or evaluate the model.\n"
     ]
    },
    {
     "name": "stdout",
     "output_type": "stream",
     "text": [
      "* Running on local URL:  http://127.0.0.1:7874\n",
      "\n",
      "To create a public link, set `share=True` in `launch()`.\n"
     ]
    },
    {
     "data": {
      "text/html": [
       "<div><iframe src=\"http://127.0.0.1:7874/\" width=\"100%\" height=\"500\" allow=\"autoplay; camera; microphone; clipboard-read; clipboard-write;\" frameborder=\"0\" allowfullscreen></iframe></div>"
      ],
      "text/plain": [
       "<IPython.core.display.HTML object>"
      ]
     },
     "metadata": {},
     "output_type": "display_data"
    },
    {
     "data": {
      "text/plain": []
     },
     "execution_count": 40,
     "metadata": {},
     "output_type": "execute_result"
    }
   ],
   "source": [
    "import gradio as gr\n",
    "import tensorflow as tf\n",
    "import numpy as np\n",
    "from tensorflow.keras.preprocessing import image\n",
    "import os\n",
    "from fpdf import FPDF\n",
    "\n",
    "# Cargar el modelo\n",
    "model = tf.keras.models.load_model('modelo_clasificacion_basuraUltimateN.h5')\n",
    "\n",
    "# Detalles de cada clase\n",
    "class_details = {\n",
    "    'Aluminium': {'es': 'Aluminio', 'message': 'El aluminio es un material reciclable que se puede reutilizar sin perder calidad.'},\n",
    "    'Carton': {'es': 'Cartón', 'message': 'El cartón reciclado se usa para hacer nuevos productos como cajas o papel.'},\n",
    "    'Glass': {'es': 'Vidrio', 'message': 'El vidrio se puede reciclar sin perder calidad, como en botellas y frascos.'},\n",
    "    'Organic Waste': {'es': 'Residuos Orgánicos', 'message': 'Restos de comida y jardín que se pueden compostar para hacer abono.'},\n",
    "    'Other Plastics': {'es': 'Otros Plásticos', 'message': 'Plásticos de un solo uso que pueden reciclarse, pero no todos.'},\n",
    "    'Paper and Cardboard': {'es': 'Papel y Cartón', 'message': 'Papel reciclado para hacer nuevos productos de papel.'},\n",
    "    'Plastic': {'es': 'Plástico', 'message': 'Plástico reciclado para hacer envases y ropa, pero es importante reducir su uso.'},\n",
    "    'Textiles': {'es': 'Textiles', 'message': 'Ropa reciclada que se puede convertir en nuevos productos o moda.'},\n",
    "    'Wood': {'es': 'Madera', 'message': 'Madera reciclada para hacer muebles o energía.'}\n",
    "}\n",
    "\n",
    "# Función para hacer predicción\n",
    "def predict_image(image_path):\n",
    "    img = image.load_img(image_path)  # Cargar imagen\n",
    "    img = img.resize((256, 256))  # Redimensionar imagen\n",
    "    img_array = image.img_to_array(img)  # Convertir imagen a array\n",
    "    img_array = np.expand_dims(img_array, axis=0) / 255.0  # Normalizar\n",
    "\n",
    "    prediction = model.predict(img_array)  # Hacer predicción\n",
    "    predicted_class = np.argmax(prediction)  # Obtener la clase predicha\n",
    "    confidence = np.max(prediction)  # Obtener la confianza de la predicción\n",
    "\n",
    "    class_names = os.listdir(os.path.join(os.getcwd(), 'TrashDataset', 'train'))  # Obtener nombres de clases\n",
    "\n",
    "    predicted_class_name = class_names[predicted_class]\n",
    "    predicted_class_es = class_details[predicted_class_name]['es']\n",
    "    message = class_details[predicted_class_name]['message']\n",
    "\n",
    "    # Crear PDF\n",
    "    pdf = FPDF()\n",
    "    pdf.add_page()\n",
    "    pdf.set_font(\"Arial\", size=12)\n",
    "\n",
    "    \n",
    "    colors = {  \n",
    "        'Aluminium': (169, 169, 169), \n",
    "        'Carton': (255, 140, 0),  \n",
    "        'Glass': (34, 139, 34),  \n",
    "        'Organic Waste': (139, 69, 19),  \n",
    "        'Other Plastics': (255, 69, 0),  \n",
    "        'Paper and Cardboard': (30, 144, 255),  \n",
    "        'Plastic': (255, 105, 180),  \n",
    "        'Textiles': (255, 215, 0),  \n",
    "        'Wood': (139, 69, 19)  #\n",
    "    }\n",
    "    \n",
    "    color = colors.get(predicted_class_name, (0, 0, 0))  \n",
    "    pdf.set_text_color(*color)\n",
    "\n",
    "    pdf.multi_cell(0, 10, f\"Clasificación: {predicted_class_es}\", align='C')\n",
    "    pdf.multi_cell(0, 10, f\"Confianza: {confidence * 100:.2f}%\", align='C')\n",
    "    pdf.multi_cell(0, 10, f\"\\n{message}\", align='J')\n",
    "\n",
    "    pdf_output_path = f\"{predicted_class_es}_informacion_reciclaje.pdf\"\n",
    "    pdf.output(pdf_output_path)\n",
    "\n",
    "    return f'🌍 Clase: {predicted_class_es} con confianza de {confidence * 100:.2f}%', pdf_output_path\n",
    "\n",
    "# Interfaz Gradio\n",
    "def enhance_interface():\n",
    "    interface = gr.Interface(fn=predict_image, \n",
    "                             inputs=gr.Image(type=\"filepath\", label=\"📸 Carga una imagen de basura\"), \n",
    "                             outputs=[gr.Textbox(label=\"🏆 Resultado de la Clasificación\"), \n",
    "                                      gr.File(label=\"📄 Descargar PDF con detalles\")],\n",
    "                             live=True,\n",
    "                             theme=\"default\",\n",
    "                             title=\"♻️ Clasificación de Residuos\", \n",
    "                             description=\"🌱 Suba una imagen de basura y el modelo te dirá el tipo de basura y un archivo PDF con más detalles.\",\n",
    "                             submit_btn=\"Clasificar 🌱\", \n",
    "                             clear_btn=\"Limpiar 🧹\")\n",
    "\n",
    "    return interface\n",
    "\n",
    "# Crear y lanzar la interfaz\n",
    "interface = enhance_interface()\n",
    "interface.launch()\n"
   ]
  },
  {
   "cell_type": "code",
   "execution_count": null,
   "id": "33da31f1-36ce-4624-8ae9-421073f33481",
   "metadata": {},
   "outputs": [],
   "source": []
  }
 ],
 "metadata": {
  "kernelspec": {
   "display_name": "projectovenv",
   "language": "python",
   "name": "projectovenv"
  },
  "language_info": {
   "codemirror_mode": {
    "name": "ipython",
    "version": 3
   },
   "file_extension": ".py",
   "mimetype": "text/x-python",
   "name": "python",
   "nbconvert_exporter": "python",
   "pygments_lexer": "ipython3",
   "version": "3.11.1"
  }
 },
 "nbformat": 4,
 "nbformat_minor": 5
}
